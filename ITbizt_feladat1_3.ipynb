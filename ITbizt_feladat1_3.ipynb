{
 "cells": [
  {
   "cell_type": "code",
   "execution_count": 1,
   "metadata": {},
   "outputs": [],
   "source": [
    "import numpy as np\n",
    "import pandas as pd\n",
    "from IPython.display import clear_output"
   ]
  },
  {
   "cell_type": "raw",
   "metadata": {},
   "source": [
    "'AcsoportnakkészítsenekegyRSAkulcspárt,aholad1000-10000közöttiérték,majdacsoportvezetõadjabeegyüttanyilvánoskulcsukatvalamintacsoportnevétisazénszámomratitkosítva-csakénolvashassamel!Amegoldásmenetétmutassákbe.'"
   ]
  },
  {
   "cell_type": "code",
   "execution_count": 2,
   "metadata": {},
   "outputs": [],
   "source": [
    "#A tanár nyilvános kulcsa\n",
    "e=11\n",
    "n=20711"
   ]
  },
  {
   "cell_type": "code",
   "execution_count": 3,
   "metadata": {},
   "outputs": [],
   "source": [
    "uzenet = \"D-dtpqpsu:(7,5561)\""
   ]
  },
  {
   "cell_type": "code",
   "execution_count": 4,
   "metadata": {},
   "outputs": [],
   "source": [
    "asciimsglst=pd.Series([ord(i) for i in uzenet])"
   ]
  },
  {
   "cell_type": "code",
   "execution_count": 5,
   "metadata": {},
   "outputs": [],
   "source": [
    "#Titkosítás a nyilvános kulccsal\n",
    "def encrypt(series,n,e):\n",
    "    return np.mod(np.power(series,e),n)"
   ]
  },
  {
   "cell_type": "code",
   "execution_count": 6,
   "metadata": {},
   "outputs": [],
   "source": [
    "crptmsg=encrypt(asciimsglst,n,e)"
   ]
  },
  {
   "cell_type": "markdown",
   "metadata": {},
   "source": [
    "## A tanár nyilvános kulcsával titkosított üzenet:"
   ]
  },
  {
   "cell_type": "code",
   "execution_count": 7,
   "metadata": {},
   "outputs": [
    {
     "name": "stdout",
     "output_type": "stream",
     "text": [
      "[18580, 15680, 168, 10861, 13018, 5111, 13018, 11835, 11535, 5635, 4995, 7431, 19922, 3159, 3159, 2850, 16515, 4598]\n"
     ]
    }
   ],
   "source": [
    "print(crptmsg.values.tolist())"
   ]
  }
 ],
 "metadata": {
  "kernelspec": {
   "display_name": "Python 3",
   "language": "python",
   "name": "python3"
  },
  "language_info": {
   "codemirror_mode": {
    "name": "ipython",
    "version": 3
   },
   "file_extension": ".py",
   "mimetype": "text/x-python",
   "name": "python",
   "nbconvert_exporter": "python",
   "pygments_lexer": "ipython3",
   "version": "3.6.4"
  }
 },
 "nbformat": 4,
 "nbformat_minor": 2
}
