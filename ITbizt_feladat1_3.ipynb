{
 "cells": [
  {
   "cell_type": "code",
   "execution_count": 1,
   "metadata": {},
   "outputs": [],
   "source": [
    "import numpy as np\n",
    "import pandas as pd\n",
    "from IPython.display import clear_output"
   ]
  },
  {
   "cell_type": "raw",
   "metadata": {},
   "source": [
    "'AcsoportnakkészítsenekegyRSAkulcspárt,aholad1000-10000közöttiérték,majdacsoportvezetõadjabeegyüttanyilvánoskulcsukatvalamintacsoportnevétisazénszámomratitkosítva-csakénolvashassamel!Amegoldásmenetétmutassákbe.'"
   ]
  },
  {
   "cell_type": "code",
   "execution_count": 2,
   "metadata": {},
   "outputs": [],
   "source": [
    "#A tanár nyilvános kulcsa\n",
    "e=11\n",
    "n=20711"
   ]
  },
  {
   "cell_type": "code",
   "execution_count": 3,
   "metadata": {},
   "outputs": [],
   "source": [
    "uzenet = \"D-dtpqpsu:(7,5561)\""
   ]
  },
  {
   "cell_type": "code",
   "execution_count": 4,
   "metadata": {},
   "outputs": [],
   "source": [
    "asciimsglst=pd.Series([ord(i) for i in uzenet])"
   ]
  },
  {
   "cell_type": "code",
   "execution_count": 5,
   "metadata": {},
   "outputs": [],
   "source": [
    "#Titkosítás a nyilvános kulccsal\n",
    "def encrypt(series,ek,nk):\n",
    "    ser0=series\n",
    "    sertemp=series\n",
    "    for nol in range(ek-1):\n",
    "        sertemp=np.mod(ser0*sertemp,nk)\n",
    "    return sertemp"
   ]
  },
  {
   "cell_type": "code",
   "execution_count": 6,
   "metadata": {},
   "outputs": [],
   "source": [
    "crptmsg=encrypt(asciimsglst,e,n)"
   ]
  },
  {
   "cell_type": "markdown",
   "metadata": {},
   "source": [
    "## A tanár nyilvános kulcsával titkosított üzenet:"
   ]
  },
  {
   "cell_type": "code",
   "execution_count": 7,
   "metadata": {},
   "outputs": [
    {
     "name": "stdout",
     "output_type": "stream",
     "text": [
      "[4645, 15680, 3600, 20096, 15713, 5589, 15713, 14736, 5163, 6482, 4995, 8278, 19922, 4006, 4006, 3697, 16515, 4598]\n"
     ]
    }
   ],
   "source": [
    "print(crptmsg.values.tolist())"
   ]
  }
 ],
 "metadata": {
  "kernelspec": {
   "display_name": "Python 3",
   "language": "python",
   "name": "python3"
  },
  "language_info": {
   "codemirror_mode": {
    "name": "ipython",
    "version": 3
   },
   "file_extension": ".py",
   "mimetype": "text/x-python",
   "name": "python",
   "nbconvert_exporter": "python",
   "pygments_lexer": "ipython3",
   "version": "3.6.4"
  }
 },
 "nbformat": 4,
 "nbformat_minor": 2
}
