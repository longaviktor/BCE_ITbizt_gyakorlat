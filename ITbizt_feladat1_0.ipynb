{
 "cells": [
  {
   "cell_type": "code",
   "execution_count": 1,
   "metadata": {},
   "outputs": [],
   "source": [
    "import numpy as np\n",
    "import pandas as pd\n",
    "from IPython.display import clear_output"
   ]
  },
  {
   "cell_type": "code",
   "execution_count": 2,
   "metadata": {},
   "outputs": [],
   "source": [
    "#A tanár nyilvános kulcsa\n",
    "e=11\n",
    "n=20711"
   ]
  },
  {
   "cell_type": "code",
   "execution_count": 3,
   "metadata": {},
   "outputs": [],
   "source": [
    "crptmsg=np.array([17605,10175,7212,1492,18115,1492,17984,10044,3640,11441,12658,12658,18304,7212,12021,2039,10044,7212,7289,3640,7289,12658,7289,3580,18083,5846,18680,17605,12658,1540,14807,10175,7212,18115,3093,17984,10044,403,11441,6387,1492,14807,11441,3249,9118,2396,2396,2396,8662,9118,2396,2396,2396,2396,12658,2650,12021,2650,10044,10044,12709,18304,17984,10044,18304,12658,403,8352,11441,284,3249,11441,10175,7212,1492,18115,1492,17984,10044,15572,7289,12021,7289,10044,17798,11441,3249,284,11441,16912,7289,7289,3580,18083,11030,10044,10044,11441,3640,18083,12709,14807,15572,3093,3640,1492,7212,12658,1540,14807,10175,7212,1540,12658,11441,10044,15572,11441,14807,11441,8352,12709,3640,10044,11441,10175,7212,1492,18115,1492,17984,10044,3640,7289,15572,18304,10044,12709,7212,11441,12021,18304,3640,7212,12021,3093,8352,1492,8352,17984,11441,10044,12709,10044,12658,1492,7212,2039,10044,15572,11441,8662,10175,7212,11441,12658,18304,3640,1492,14807,15572,11441,7212,6387,11441,7212,7212,11441,8352,7289,14807,11114,17605,8352,7289,3580,1492,14807,3249,3093,7212,8352,7289,3640,7289,10044,18304,10044,8352,1540,10044,11441,7212,7212,3093,12658,16912,7289,8787])"
   ]
  },
  {
   "cell_type": "code",
   "execution_count": 4,
   "metadata": {},
   "outputs": [],
   "source": [
    "#Dekódolás a nyilvános kulccsal\n",
    "def decrypt(series,n,e):\n",
    "    ser0=series\n",
    "    sertemp=series\n",
    "    for nol in range(e-1):\n",
    "        sertemp=np.mod(ser0*sertemp,n)\n",
    "    return sertemp"
   ]
  },
  {
   "cell_type": "code",
   "execution_count": 5,
   "metadata": {},
   "outputs": [],
   "source": [
    "dcrptmsg=decrypt(crptmsg,n,e)"
   ]
  },
  {
   "cell_type": "markdown",
   "metadata": {},
   "source": [
    "## A dekódolt üzenet:"
   ]
  },
  {
   "cell_type": "code",
   "execution_count": 6,
   "metadata": {},
   "outputs": [
    {
     "data": {
      "text/plain": [
       "'AcsoportnakkészítsenekegyRSAkulcspárt,aholad1000-10000közöttiérték,majdacsoportvezetõadjabeegyüttanyilvánoskulcsukatvalamintacsoportnevétisazénszámomratitkosítva-csakénolvashassamel!Amegoldásmenetétmutassákbe.'"
      ]
     },
     "execution_count": 6,
     "metadata": {},
     "output_type": "execute_result"
    }
   ],
   "source": [
    "msg=''.join([chr(i) for i in dcrptmsg])\n",
    "msg"
   ]
  }
 ],
 "metadata": {
  "kernelspec": {
   "display_name": "Python 3",
   "language": "python",
   "name": "python3"
  },
  "language_info": {
   "codemirror_mode": {
    "name": "ipython",
    "version": 3
   },
   "file_extension": ".py",
   "mimetype": "text/x-python",
   "name": "python",
   "nbconvert_exporter": "python",
   "pygments_lexer": "ipython3",
   "version": "3.6.4"
  }
 },
 "nbformat": 4,
 "nbformat_minor": 2
}
