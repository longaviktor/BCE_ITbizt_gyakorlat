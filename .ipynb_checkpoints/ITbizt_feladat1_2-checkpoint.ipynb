{
 "cells": [
  {
   "cell_type": "code",
   "execution_count": 1,
   "metadata": {},
   "outputs": [],
   "source": [
    "import numpy as np\n",
    "from IPython.display import clear_output"
   ]
  },
  {
   "cell_type": "raw",
   "metadata": {},
   "source": [
    "'AcsoportnakkészítsenekegyRSAkulcspárt,aholad1000-10000közöttiérték,majdacsoportvezetõadjabeegyüttanyilvánoskulcsukatvalamintacsoportnevétisazénszámomratitkosítva-csakénolvashassamel!Amegoldásmenetétmutassákbe.'"
   ]
  },
  {
   "cell_type": "code",
   "execution_count": 2,
   "metadata": {},
   "outputs": [],
   "source": [
    "def def_d(fi,e):\n",
    "    ntemp=fi+1\n",
    "    cntr=1\n",
    "    while np.mod(ntemp,e)!=0 and cntr<2000:\n",
    "        ntemp+=fi\n",
    "        cntr+=1\n",
    "        clear_output()\n",
    "        print(\"{}:{}\".format(cntr,ntemp))\n",
    "    if cntr<2000:\n",
    "        clear_output()\n",
    "        print(\"{}:{}\".format(cntr,ntemp))\n",
    "        return ntemp/e\n",
    "    else:\n",
    "        clear_output()\n",
    "        print(\"Error\")\n",
    "        return 0"
   ]
  },
  {
   "cell_type": "code",
   "execution_count": 3,
   "metadata": {},
   "outputs": [],
   "source": [
    "r=67\n",
    "q=83\n",
    "n=r*q\n",
    "\n",
    "r1=r-1\n",
    "q1=q-1\n",
    "fi=r1*q1\n",
    "\n",
    "#e>1 egész szám, amely kisebb, mint ϕ(n) és relatív prím ϕ(n)=(p-1)(q-1)-hez.\n",
    "e=7"
   ]
  },
  {
   "cell_type": "code",
   "execution_count": 4,
   "metadata": {},
   "outputs": [
    {
     "name": "stdout",
     "output_type": "stream",
     "text": [
      "6:32473\n",
      "d=4639\n"
     ]
    }
   ],
   "source": [
    "d=int(def_d(fi,e))\n",
    "print('d={}'.format(d))"
   ]
  },
  {
   "cell_type": "markdown",
   "metadata": {},
   "source": [
    "## A csoport RSA kulcsa "
   ]
  },
  {
   "cell_type": "code",
   "execution_count": 5,
   "metadata": {},
   "outputs": [
    {
     "name": "stdout",
     "output_type": "stream",
     "text": [
      "Nyilvános kulcs:(7,5561)\n",
      "Titkos kulcs:(4639,5561)\n"
     ]
    }
   ],
   "source": [
    "print(\"Nyilvános kulcs:({},{})\".format(e,n))\n",
    "print(\"Titkos kulcs:({},{})\".format(d,n))"
   ]
  },
  {
   "cell_type": "markdown",
   "metadata": {},
   "source": [
    "## A kulcs tesztelése"
   ]
  },
  {
   "cell_type": "code",
   "execution_count": 6,
   "metadata": {},
   "outputs": [],
   "source": [
    "#uzenet = input(\"Üzenet:\")\n",
    "uzenet = \"tesztuzenet\""
   ]
  },
  {
   "cell_type": "code",
   "execution_count": 7,
   "metadata": {},
   "outputs": [],
   "source": [
    "asciimsglst=np.array([ord(i) for i in uzenet])"
   ]
  },
  {
   "cell_type": "code",
   "execution_count": 8,
   "metadata": {},
   "outputs": [],
   "source": [
    "def encrypt(series,n,e):\n",
    "    return np.mod(np.power(series,e),n)"
   ]
  },
  {
   "cell_type": "code",
   "execution_count": 9,
   "metadata": {},
   "outputs": [],
   "source": [
    "crptmsg=encrypt(asciimsglst,n,e)"
   ]
  },
  {
   "cell_type": "code",
   "execution_count": 10,
   "metadata": {},
   "outputs": [
    {
     "name": "stdout",
     "output_type": "stream",
     "text": [
      "[4863 2155  118 1132 4863 3363 1132 2155 1315 2155 4863]\n"
     ]
    }
   ],
   "source": [
    "print(crptmsg)"
   ]
  },
  {
   "cell_type": "code",
   "execution_count": 11,
   "metadata": {},
   "outputs": [],
   "source": [
    "def decrypt(series,n,d):\n",
    "    ser0=series\n",
    "    sertemp=series\n",
    "    for nol in range(d-1):\n",
    "        sertemp=np.mod(ser0*sertemp,n)\n",
    "    return sertemp"
   ]
  },
  {
   "cell_type": "code",
   "execution_count": 12,
   "metadata": {},
   "outputs": [],
   "source": [
    "dcrptmsg=decrypt(crptmsg,n,d)"
   ]
  },
  {
   "cell_type": "code",
   "execution_count": 13,
   "metadata": {},
   "outputs": [
    {
     "data": {
      "text/plain": [
       "'tesztuzenet'"
      ]
     },
     "execution_count": 13,
     "metadata": {},
     "output_type": "execute_result"
    }
   ],
   "source": [
    "msg=''.join([chr(i) for i in dcrptmsg])\n",
    "msg"
   ]
  }
 ],
 "metadata": {
  "kernelspec": {
   "display_name": "Python 3",
   "language": "python",
   "name": "python3"
  },
  "language_info": {
   "codemirror_mode": {
    "name": "ipython",
    "version": 3
   },
   "file_extension": ".py",
   "mimetype": "text/x-python",
   "name": "python",
   "nbconvert_exporter": "python",
   "pygments_lexer": "ipython3",
   "version": "3.6.4"
  }
 },
 "nbformat": 4,
 "nbformat_minor": 2
}
